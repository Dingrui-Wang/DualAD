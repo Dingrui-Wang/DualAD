{
 "cells": [
  {
   "cell_type": "markdown",
   "id": "63ae56b0",
   "metadata": {},
   "source": [
    "![](https://www.nuplan.org/static/media/nuPlan_final.3fde7586.png)"
   ]
  },
  {
   "cell_type": "markdown",
   "id": "7e01e5d2",
   "metadata": {},
   "source": [
    "### Contents\n",
    "\n",
    "1. [Introduction](#introduction)\n",
    "2. [Accessing sensor data through NuPlanScenario](#nuplan_scenario)"
   ]
  },
  {
   "cell_type": "markdown",
   "id": "34460db1",
   "metadata": {},
   "source": [
    "# Introduction <a name=\"introduction\"></a>\n"
   ]
  },
  {
   "cell_type": "markdown",
   "id": "01b6b6ee",
   "metadata": {},
   "source": [
    "Welcome to the nuPlan sensor data tutorial. This tutorial is a short guide on how to access sensor data. The sensor data are stored as object blobs (.jpg for images and .pcd for pointcloud) which are separate from the log database (.db) files. The database files simply provide a reference to the corresponding sensor blob. **Hence, you need to have both the database files and the sensor blobs downloaded and stored in the correct directories**. It is recommended that you set up your file structure as illustrated below.\n",
    "\n",
    "Note that the name of the DB corresponds to the directory name where the sensor blob is stored. For example, the sensor blobs for `nuplan-v1.1/splits/mini/2021.05.12.22.00.38_veh-35_01008_01518.db` lives in `nuplan-v1.1/sensor_blobs/2021.05.12.22.00.38_veh-35_01008_01518/`.\n",
    "\n",
    "\n",
    "```\n",
    "~/nuplan\n",
    "├── exp\n",
    "│   └── ${USER}\n",
    "│       ├── cache\n",
    "│       │   └── <cached_tokens>\n",
    "│       └── exp\n",
    "│           └── my_nuplan_experiment\n",
    "└── dataset\n",
    "    ├── maps\n",
    "    │   ├── nuplan-maps-v1.0.json\n",
    "    │   ├── sg-one-north\n",
    "    │   │   └── 9.17.1964\n",
    "    │   │       └── map.gpkg\n",
    "    │   ├── us-ma-boston\n",
    "    │   │   └── 9.12.1817\n",
    "    │   │       └── map.gpkg\n",
    "    │   ├── us-nv-las-vegas-strip\n",
    "    │   │   └── 9.15.1915\n",
    "    │   │       └── map.gpkg\n",
    "    │   └── us-pa-pittsburgh-hazelwood\n",
    "    │       └── 9.17.1937\n",
    "    │           └── map.gpkg\n",
    "    └── nuplan-v1.1\n",
    "        ├── splits\n",
    "        │     ├── mini\n",
    "        │     │    ├── 2021.05.12.22.00.38_veh-35_01008_01518.db\n",
    "        │     │    ├── 2021.06.09.17.23.18_veh-38_00773_01140.db\n",
    "        │     │    ├── ...\n",
    "        │     │    └── 2021.10.11.08.31.07_veh-50_01750_01948.db\n",
    "        │     └── trainval\n",
    "        │          ├── 2021.05.12.22.00.38_veh-35_01008_01518.db\n",
    "        │          ├── 2021.06.09.17.23.18_veh-38_00773_01140.db\n",
    "        │          ├── ...\n",
    "        │          └── 2021.10.11.08.31.07_veh-50_01750_01948.db\n",
    "        └── sensor_blobs\n",
    "              ├── 2021.05.12.22.00.38_veh-35_01008_01518\n",
    "              │    ├── CAM_F0\n",
    "              │    │     ├── c082c104b7ac5a71.jpg\n",
    "              │    │     ├── af380db4b4ca5d63.jpg\n",
    "              │    │     ├── ...\n",
    "              │    │     └── 2270fccfb44858b3.jpg\n",
    "              │    ├── CAM_B0\n",
    "              │    ├── CAM_L0\n",
    "              │    ├── CAM_L1\n",
    "              │    ├── CAM_L2\n",
    "              │    ├── CAM_R0\n",
    "              │    ├── CAM_R1\n",
    "              │    ├── CAM_R2\n",
    "              │    └──MergedPointCloud\n",
    "              │         ├── 03fafcf2c0865668.pcd\n",
    "              │         ├── 5aee37ce29665f1b.pcd\n",
    "              │         ├── ...\n",
    "              │         └── 5fe65ef6a97f5caf.pcd\n",
    "              │\n",
    "              ├── 2021.06.09.17.23.18_veh-38_00773_01140\n",
    "              ├── ...\n",
    "              └── 2021.10.11.08.31.07_veh-50_01750_01948\n",
    "\n",
    "```"
   ]
  },
  {
   "cell_type": "markdown",
   "id": "f0189156",
   "metadata": {},
   "source": [
    "## Setup\n",
    "\n",
    "To be able to access all resources within this notebook, make sure Jupyter is launched at the root of this repo. The path of the notebook should be `/notebook/<repo_root>`.\n",
    "\n",
    "### IMPORTANT\n",
    "Please make sure that you have the following downloaded:\n",
    "- nuplan_mini dataset from `nuplan-v1.1_mini.zip`\n",
    "- sensor blobs from `nuplan-v1.1_mini_camera_0.zip` and `nuplan-v1.1_mini_lidar_0.zip`\n",
    "\n",
    "Make sure that the files are extracted following the file structure shown above."
   ]
  },
  {
   "cell_type": "code",
   "execution_count": 1,
   "id": "779b0132",
   "metadata": {
    "pycharm": {
     "is_executing": true
    }
   },
   "outputs": [],
   "source": [
    "# Useful imports\n",
    "import os\n",
    "from pathlib import Path\n",
    "import tempfile\n",
    "import hydra\n",
    "import numpy as np\n",
    "import matplotlib.pyplot as plt \n",
    "%matplotlib inline\n",
    "\n",
    "from tutorials.utils.tutorial_utils import setup_notebook\n",
    "\n",
    "setup_notebook()"
   ]
  },
  {
   "cell_type": "markdown",
   "id": "edf9156f",
   "metadata": {},
   "source": [
    "# Accessing sensor data through NuPlanScenario<a name=\"nuplan_scenario\"></a>"
   ]
  },
  {
   "cell_type": "markdown",
   "id": "b21f4f69",
   "metadata": {},
   "source": [
    "[NuplanScenario](https://github.com/motional/nuplan-devkit/blob/master/nuplan/planning/scenario_builder/nuplan_db/nuplan_scenario.py#L45) is the primary method of accessing the sensor data. NuPlanScenario provides convenience methods such as [`get_sensors_at_iteration()`](https://github.com/motional/nuplan-devkit/blob/master/nuplan/planning/scenario_builder/nuplan_db/nuplan_scenario.py#L293) and [`get_past_sensors()`](https://github.com/motional/nuplan-devkit/blob/master/nuplan/planning/scenario_builder/nuplan_db/nuplan_scenario.py#L372). These methods return a single [Sensors](https://github.com/motional/nuplan-devkit/blob/master/nuplan/planning/simulation/observation/observation_type.py#L51) dataclass instance or a list of `Sensors` instances, respectively. The dataclass instance contains both lidar pointclouds and images. It is in the form of a dictionary that maps sensor channels to sensor data.\n",
    "```\n",
    "@dataclass\n",
    "class Sensors(Observation):\n",
    "    \"\"\"\n",
    "    Output of sensors, e.g. images and pointclouds.\n",
    "    \"\"\"\n",
    "\n",
    "    pointcloud: Optional[Dict[LidarChannel, LidarPointCloud]]\n",
    "    images: Optional[Dict[CameraChannel, Image]]\n",
    "```\n",
    "\n",
    "Let's see how it works below. First we need to create an instance of NuPlanScenario. Usually, this is taken care of by a builder during training or simulation. However, for the sake of demonstration we will manually create one."
   ]
  },
  {
   "cell_type": "code",
   "execution_count": 21,
   "id": "d8f1b203",
   "metadata": {
    "pycharm": {
     "is_executing": true
    }
   },
   "outputs": [
    {
     "name": "stdout",
     "output_type": "stream",
     "text": [
      "/home/f1tenth/nuplan-devkit/tutorials\n"
     ]
    }
   ],
   "source": [
    "from nuplan.common.actor_state.vehicle_parameters import get_pacifica_parameters\n",
    "from nuplan.planning.scenario_builder.nuplan_db.nuplan_scenario import NuPlanScenario, CameraChannel, LidarChannel\n",
    "from nuplan.planning.scenario_builder.nuplan_db.nuplan_scenario_utils import ScenarioExtractionInfo\n",
    "\n",
    "import os\n",
    "\n",
    "# Get the current directory path\n",
    "current_directory = os.getcwd()\n",
    "print(current_directory)\n",
    "\n",
    "import os\n",
    "NUPLAN_DATA_ROOT = os.getenv('NUPLAN_DATA_ROOT', '/data/sets/nuplan')\n",
    "NUPLAN_MAPS_ROOT = os.getenv('NUPLAN_MAPS_ROOT', '/data/sets/nuplan/maps')\n",
    "NUPLAN_DB_FILES = os.getenv('NUPLAN_DB_FILES', '/data/sets/nuplan/nuplan-v1.1/splits/mini')\n",
    "NUPLAN_MAP_VERSION = os.getenv('NUPLAN_MAP_VERSION', 'nuplan-maps-v1.0')\n",
    "\n",
    "NUPLAN_SENSOR_ROOT = f\"{NUPLAN_DATA_ROOT}/nuplan-v1.1/sensor_blobs\"\n",
    "TEST_DB_FILE = f\"{NUPLAN_DATA_ROOT}/nuplan-v1.1/splits/mini/2021.05.12.22.00.38_veh-35_01008_01518.db\"\n",
    "MAP_NAME = \"us-nv-las-vegas\"\n",
    "TEST_INITIAL_LIDAR_PC = None\n",
    "TEST_INITIAL_TIMESTAMP = None\n",
    "\n",
    "scenario = NuPlanScenario(\n",
    "            data_root=f\"{NUPLAN_DATA_ROOT}/nuplan-v1.1/splits/mini\",\n",
    "            log_file_load_path=TEST_DB_FILE,\n",
    "            initial_lidar_token=TEST_INITIAL_LIDAR_PC,\n",
    "            initial_lidar_timestamp=TEST_INITIAL_TIMESTAMP,\n",
    "            scenario_type=\"scenario_type\",\n",
    "            map_root=NUPLAN_MAPS_ROOT,\n",
    "            map_version=NUPLAN_MAP_VERSION,\n",
    "            map_name=MAP_NAME,\n",
    "            scenario_extraction_info=ScenarioExtractionInfo(\n",
    "                scenario_name=\"scenario_name\", scenario_duration=20, extraction_offset=1, subsample_ratio=0.5\n",
    "            ),\n",
    "            ego_vehicle_parameters=get_pacifica_parameters(),\n",
    "            sensor_root=NUPLAN_DATA_ROOT+\"/nuplan-v1.1/sensor_blobs\",\n",
    ")"
   ]
  },
  {
   "cell_type": "markdown",
   "id": "1945b81c",
   "metadata": {},
   "source": [
    "Now that we have a NuplanScenario instance we can start using the interfaces available. In this tutorial we will use `get_sensors_at_iteration()`. First we want to extract a lidar point cloud and an image from the front facing camera. Take note of the channels `CameraChannel.CAM_F0` and `LidarChannel.MERGED_PC` passed to the method."
   ]
  },
  {
   "cell_type": "code",
   "execution_count": 22,
   "id": "11b08c6d",
   "metadata": {
    "pycharm": {
     "is_executing": true
    }
   },
   "outputs": [
    {
     "ename": "TypeError",
     "evalue": "unsupported operand type(s) for +: 'NoneType' and 'float'",
     "output_type": "error",
     "traceback": [
      "\u001b[0;31m---------------------------------------------------------------------------\u001b[0m",
      "\u001b[0;31mTypeError\u001b[0m                                 Traceback (most recent call last)",
      "Cell \u001b[0;32mIn[22], line 1\u001b[0m\n\u001b[0;32m----> 1\u001b[0m sensors \u001b[38;5;241m=\u001b[39m \u001b[43mscenario\u001b[49m\u001b[38;5;241;43m.\u001b[39;49m\u001b[43mget_sensors_at_iteration\u001b[49m\u001b[43m(\u001b[49m\u001b[38;5;241;43m0\u001b[39;49m\u001b[43m,\u001b[49m\u001b[43m \u001b[49m\u001b[43m[\u001b[49m\u001b[43mCameraChannel\u001b[49m\u001b[38;5;241;43m.\u001b[39;49m\u001b[43mCAM_F0\u001b[49m\u001b[43m]\u001b[49m\u001b[43m)\u001b[49m\n\u001b[1;32m      2\u001b[0m \u001b[38;5;28mprint\u001b[39m(sensors)\n",
      "File \u001b[0;32m~/nuplan-devkit/nuplan/planning/scenario_builder/nuplan_db/nuplan_scenario.py:299\u001b[0m, in \u001b[0;36mNuPlanScenario.get_sensors_at_iteration\u001b[0;34m(self, iteration, channels)\u001b[0m\n\u001b[1;32m    294\u001b[0m \u001b[38;5;66;03m# To maintain backwards compatibility. We return lidar_pc by default.\u001b[39;00m\n\u001b[1;32m    295\u001b[0m channels \u001b[38;5;241m=\u001b[39m [LidarChannel\u001b[38;5;241m.\u001b[39mMERGED_PC] \u001b[38;5;28;01mif\u001b[39;00m channels \u001b[38;5;129;01mis\u001b[39;00m \u001b[38;5;28;01mNone\u001b[39;00m \u001b[38;5;28;01melse\u001b[39;00m channels\n\u001b[1;32m    297\u001b[0m lidar_pc \u001b[38;5;241m=\u001b[39m \u001b[38;5;28mnext\u001b[39m(\n\u001b[1;32m    298\u001b[0m     get_sensor_data_from_sensor_data_tokens_from_db(\n\u001b[0;32m--> 299\u001b[0m         \u001b[38;5;28mself\u001b[39m\u001b[38;5;241m.\u001b[39m_log_file, get_lidarpc_sensor_data(), LidarPc, [\u001b[38;5;28;43mself\u001b[39;49m\u001b[38;5;241;43m.\u001b[39;49m\u001b[43m_lidarpc_tokens\u001b[49m[iteration]]\n\u001b[1;32m    300\u001b[0m     )\n\u001b[1;32m    301\u001b[0m )\n\u001b[1;32m    302\u001b[0m \u001b[38;5;28;01mreturn\u001b[39;00m \u001b[38;5;28mself\u001b[39m\u001b[38;5;241m.\u001b[39m_get_sensor_data_from_lidar_pc(cast(LidarPc, lidar_pc), channels)\n",
      "File \u001b[0;32m~/anaconda3/envs/nuplan/lib/python3.9/functools.py:993\u001b[0m, in \u001b[0;36mcached_property.__get__\u001b[0;34m(self, instance, owner)\u001b[0m\n\u001b[1;32m    991\u001b[0m val \u001b[38;5;241m=\u001b[39m cache\u001b[38;5;241m.\u001b[39mget(\u001b[38;5;28mself\u001b[39m\u001b[38;5;241m.\u001b[39mattrname, _NOT_FOUND)\n\u001b[1;32m    992\u001b[0m \u001b[38;5;28;01mif\u001b[39;00m val \u001b[38;5;129;01mis\u001b[39;00m _NOT_FOUND:\n\u001b[0;32m--> 993\u001b[0m     val \u001b[38;5;241m=\u001b[39m \u001b[38;5;28;43mself\u001b[39;49m\u001b[38;5;241;43m.\u001b[39;49m\u001b[43mfunc\u001b[49m\u001b[43m(\u001b[49m\u001b[43minstance\u001b[49m\u001b[43m)\u001b[49m\n\u001b[1;32m    994\u001b[0m     \u001b[38;5;28;01mtry\u001b[39;00m:\n\u001b[1;32m    995\u001b[0m         cache[\u001b[38;5;28mself\u001b[39m\u001b[38;5;241m.\u001b[39mattrname] \u001b[38;5;241m=\u001b[39m val\n",
      "File \u001b[0;32m~/nuplan-devkit/nuplan/planning/scenario_builder/nuplan_db/nuplan_scenario.py:161\u001b[0m, in \u001b[0;36mNuPlanScenario._lidarpc_tokens\u001b[0;34m(self)\u001b[0m\n\u001b[1;32m    157\u001b[0m \u001b[38;5;28;01mif\u001b[39;00m \u001b[38;5;28mself\u001b[39m\u001b[38;5;241m.\u001b[39m_scenario_extraction_info \u001b[38;5;129;01mis\u001b[39;00m \u001b[38;5;28;01mNone\u001b[39;00m:\n\u001b[1;32m    158\u001b[0m     \u001b[38;5;28;01mreturn\u001b[39;00m [\u001b[38;5;28mself\u001b[39m\u001b[38;5;241m.\u001b[39m_initial_lidar_token]\n\u001b[1;32m    160\u001b[0m lidarpc_tokens \u001b[38;5;241m=\u001b[39m \u001b[38;5;28mlist\u001b[39m(\n\u001b[0;32m--> 161\u001b[0m     \u001b[43mextract_sensor_tokens_as_scenario\u001b[49m\u001b[43m(\u001b[49m\n\u001b[1;32m    162\u001b[0m \u001b[43m        \u001b[49m\u001b[38;5;28;43mself\u001b[39;49m\u001b[38;5;241;43m.\u001b[39;49m\u001b[43m_log_file\u001b[49m\u001b[43m,\u001b[49m\n\u001b[1;32m    163\u001b[0m \u001b[43m        \u001b[49m\u001b[43mget_lidarpc_sensor_data\u001b[49m\u001b[43m(\u001b[49m\u001b[43m)\u001b[49m\u001b[43m,\u001b[49m\n\u001b[1;32m    164\u001b[0m \u001b[43m        \u001b[49m\u001b[38;5;28;43mself\u001b[39;49m\u001b[38;5;241;43m.\u001b[39;49m\u001b[43m_initial_lidar_timestamp\u001b[49m\u001b[43m,\u001b[49m\n\u001b[1;32m    165\u001b[0m \u001b[43m        \u001b[49m\u001b[38;5;28;43mself\u001b[39;49m\u001b[38;5;241;43m.\u001b[39;49m\u001b[43m_scenario_extraction_info\u001b[49m\u001b[43m,\u001b[49m\n\u001b[1;32m    166\u001b[0m \u001b[43m    \u001b[49m\u001b[43m)\u001b[49m\n\u001b[1;32m    167\u001b[0m )\n\u001b[1;32m    169\u001b[0m \u001b[38;5;28;01mreturn\u001b[39;00m cast(List[\u001b[38;5;28mstr\u001b[39m], lidarpc_tokens)\n",
      "File \u001b[0;32m~/nuplan-devkit/nuplan/planning/scenario_builder/nuplan_db/nuplan_scenario_utils.py:401\u001b[0m, in \u001b[0;36mextract_sensor_tokens_as_scenario\u001b[0;34m(log_file, sensor_data_source, anchor_timestamp, scenario_extraction_info)\u001b[0m\n\u001b[1;32m    387\u001b[0m \u001b[38;5;28;01mdef\u001b[39;00m \u001b[38;5;21mextract_sensor_tokens_as_scenario\u001b[39m(\n\u001b[1;32m    388\u001b[0m     log_file: \u001b[38;5;28mstr\u001b[39m,\n\u001b[1;32m    389\u001b[0m     sensor_data_source: SensorDataSource,\n\u001b[1;32m    390\u001b[0m     anchor_timestamp: \u001b[38;5;28mfloat\u001b[39m,\n\u001b[1;32m    391\u001b[0m     scenario_extraction_info: ScenarioExtractionInfo,\n\u001b[1;32m    392\u001b[0m ) \u001b[38;5;241m-\u001b[39m\u001b[38;5;241m>\u001b[39m Generator[\u001b[38;5;28mstr\u001b[39m, \u001b[38;5;28;01mNone\u001b[39;00m, \u001b[38;5;28;01mNone\u001b[39;00m]:\n\u001b[1;32m    393\u001b[0m \u001b[38;5;250m    \u001b[39m\u001b[38;5;124;03m\"\"\"\u001b[39;00m\n\u001b[1;32m    394\u001b[0m \u001b[38;5;124;03m    Extract a list of sensor tokens that form a scenario around an anchor timestamp.\u001b[39;00m\n\u001b[1;32m    395\u001b[0m \u001b[38;5;124;03m    :param log_file: The log file to access\u001b[39;00m\n\u001b[0;32m   (...)\u001b[0m\n\u001b[1;32m    399\u001b[0m \u001b[38;5;124;03m    :return: List of extracted sensor tokens representing the scenario.\u001b[39;00m\n\u001b[1;32m    400\u001b[0m \u001b[38;5;124;03m    \"\"\"\u001b[39;00m\n\u001b[0;32m--> 401\u001b[0m     start_timestamp \u001b[38;5;241m=\u001b[39m \u001b[38;5;28mint\u001b[39m(\u001b[43manchor_timestamp\u001b[49m\u001b[43m \u001b[49m\u001b[38;5;241;43m+\u001b[39;49m\u001b[43m \u001b[49m\u001b[43mscenario_extraction_info\u001b[49m\u001b[38;5;241;43m.\u001b[39;49m\u001b[43mextraction_offset\u001b[49m\u001b[43m \u001b[49m\u001b[38;5;241;43m*\u001b[39;49m\u001b[43m \u001b[49m\u001b[38;5;241;43m1e6\u001b[39;49m)\n\u001b[1;32m    402\u001b[0m     end_timestamp \u001b[38;5;241m=\u001b[39m \u001b[38;5;28mint\u001b[39m(start_timestamp \u001b[38;5;241m+\u001b[39m scenario_extraction_info\u001b[38;5;241m.\u001b[39mscenario_duration \u001b[38;5;241m*\u001b[39m \u001b[38;5;241m1e6\u001b[39m)\n\u001b[1;32m    403\u001b[0m     subsample_step \u001b[38;5;241m=\u001b[39m \u001b[38;5;28mint\u001b[39m(\u001b[38;5;241m1.0\u001b[39m \u001b[38;5;241m/\u001b[39m scenario_extraction_info\u001b[38;5;241m.\u001b[39msubsample_ratio)\n",
      "\u001b[0;31mTypeError\u001b[0m: unsupported operand type(s) for +: 'NoneType' and 'float'"
     ]
    }
   ],
   "source": [
    "sensors = scenario.get_sensors_at_iteration(0, [CameraChannel.CAM_F0])\n",
    "print(sensors)"
   ]
  },
  {
   "cell_type": "markdown",
   "id": "ac5032f9",
   "metadata": {},
   "source": [
    "As you can see from the print statement, `sensors` stores two dictionaries. One for pointclouds, and one for images. Each dictionary uses the enums `LidarChannel` and `CameraChannel` to map the sensor data to the correct channels. In nuPlan the available channels are: \n",
    "\n",
    "```\n",
    "class CameraChannel(Enum):\n",
    "    \"\"\"\n",
    "    An enum class representing supported camera channels\n",
    "    \"\"\"\n",
    "\n",
    "    CAM_F0 = \"CAM_F0\"\n",
    "    CAM_B0 = \"CAM_B0\"\n",
    "    CAM_L0 = \"CAM_L0\"\n",
    "    CAM_L1 = \"CAM_L1\"\n",
    "    CAM_L2 = \"CAM_L2\"\n",
    "    CAM_R0 = \"CAM_R0\"\n",
    "    CAM_R1 = \"CAM_R1\"\n",
    "    CAM_R2 = \"CAM_R2\"\n",
    "\n",
    "\n",
    "class LidarChannel(Enum):\n",
    "    \"\"\"\n",
    "    An enum class representing supported lidar channels\n",
    "    \"\"\"\n",
    "\n",
    "    MERGED_PC = \"MergedPointCloud\"\n",
    "```"
   ]
  },
  {
   "cell_type": "code",
   "execution_count": 14,
   "id": "2bfd3e7b",
   "metadata": {},
   "outputs": [
    {
     "ename": "NameError",
     "evalue": "name 'sensors' is not defined",
     "output_type": "error",
     "traceback": [
      "\u001b[0;31m---------------------------------------------------------------------------\u001b[0m",
      "\u001b[0;31mNameError\u001b[0m                                 Traceback (most recent call last)",
      "Cell \u001b[0;32mIn[14], line 2\u001b[0m\n\u001b[1;32m      1\u001b[0m \u001b[38;5;66;03m# Lets visualize the image.\u001b[39;00m\n\u001b[0;32m----> 2\u001b[0m img \u001b[38;5;241m=\u001b[39m \u001b[43msensors\u001b[49m\u001b[38;5;241m.\u001b[39mimages[CameraChannel\u001b[38;5;241m.\u001b[39mCAM_F0]\n\u001b[1;32m      3\u001b[0m plt\u001b[38;5;241m.\u001b[39mimshow(img\u001b[38;5;241m.\u001b[39mas_numpy)\n\u001b[1;32m      4\u001b[0m plt\u001b[38;5;241m.\u001b[39mshow()\n",
      "\u001b[0;31mNameError\u001b[0m: name 'sensors' is not defined"
     ]
    }
   ],
   "source": [
    "# Lets visualize the image.\n",
    "img = sensors.images[CameraChannel.CAM_F0]\n",
    "plt.imshow(img.as_numpy)\n",
    "plt.show()"
   ]
  },
  {
   "cell_type": "code",
   "execution_count": 18,
   "id": "ad704424",
   "metadata": {},
   "outputs": [
    {
     "ename": "NameError",
     "evalue": "name 'sensors' is not defined",
     "output_type": "error",
     "traceback": [
      "\u001b[0;31m---------------------------------------------------------------------------\u001b[0m",
      "\u001b[0;31mNameError\u001b[0m                                 Traceback (most recent call last)",
      "Cell \u001b[0;32mIn[18], line 2\u001b[0m\n\u001b[1;32m      1\u001b[0m \u001b[38;5;66;03m# And then the visualize pointcloud.\u001b[39;00m\n\u001b[0;32m----> 2\u001b[0m pc \u001b[38;5;241m=\u001b[39m \u001b[43msensors\u001b[49m\u001b[38;5;241m.\u001b[39mpointcloud[LidarChannel\u001b[38;5;241m.\u001b[39mMERGED_PC]\n\u001b[1;32m      3\u001b[0m plt\u001b[38;5;241m.\u001b[39mimshow(pc\u001b[38;5;241m.\u001b[39mrender_image())\n\u001b[1;32m      4\u001b[0m plt\u001b[38;5;241m.\u001b[39mshow()\n",
      "\u001b[0;31mNameError\u001b[0m: name 'sensors' is not defined"
     ]
    }
   ],
   "source": [
    "# And then the visualize pointcloud.\n",
    "pc = sensors.pointcloud[LidarChannel.MERGED_PC]\n",
    "plt.imshow(pc.render_image())\n",
    "plt.show()"
   ]
  },
  {
   "cell_type": "code",
   "execution_count": 19,
   "id": "0123b5a2",
   "metadata": {},
   "outputs": [
    {
     "ename": "RuntimeError",
     "evalue": "Remote store is not set and key was not found locally. Try setting NUPLAN_DATA_STORE to 's3'.",
     "output_type": "error",
     "traceback": [
      "\u001b[0;31m---------------------------------------------------------------------------\u001b[0m",
      "\u001b[0;31mRuntimeError\u001b[0m                              Traceback (most recent call last)",
      "Cell \u001b[0;32mIn[19], line 2\u001b[0m\n\u001b[1;32m      1\u001b[0m \u001b[38;5;66;03m# All camera channels\u001b[39;00m\n\u001b[0;32m----> 2\u001b[0m sensors \u001b[38;5;241m=\u001b[39m \u001b[43mscenario\u001b[49m\u001b[38;5;241;43m.\u001b[39;49m\u001b[43mget_sensors_at_iteration\u001b[49m\u001b[43m(\u001b[49m\u001b[38;5;241;43m0\u001b[39;49m\u001b[43m,\u001b[49m\u001b[43m \u001b[49m\u001b[43m[\u001b[49m\u001b[43mchannel\u001b[49m\u001b[43m \u001b[49m\u001b[38;5;28;43;01mfor\u001b[39;49;00m\u001b[43m \u001b[49m\u001b[43mchannel\u001b[49m\u001b[43m \u001b[49m\u001b[38;5;129;43;01min\u001b[39;49;00m\u001b[43m \u001b[49m\u001b[43mCameraChannel\u001b[49m\u001b[43m]\u001b[49m\u001b[43m)\u001b[49m\n\u001b[1;32m      5\u001b[0m \u001b[38;5;66;03m# Visualizing all 8 channels\u001b[39;00m\n\u001b[1;32m      6\u001b[0m fig, axarr \u001b[38;5;241m=\u001b[39m plt\u001b[38;5;241m.\u001b[39msubplots(\u001b[38;5;241m4\u001b[39m, \u001b[38;5;241m2\u001b[39m, figsize\u001b[38;5;241m=\u001b[39m(\u001b[38;5;241m10\u001b[39m, \u001b[38;5;241m15\u001b[39m))\n",
      "File \u001b[0;32m~/nuplan-devkit/nuplan/planning/scenario_builder/nuplan_db/nuplan_scenario.py:302\u001b[0m, in \u001b[0;36mNuPlanScenario.get_sensors_at_iteration\u001b[0;34m(self, iteration, channels)\u001b[0m\n\u001b[1;32m    295\u001b[0m channels \u001b[38;5;241m=\u001b[39m [LidarChannel\u001b[38;5;241m.\u001b[39mMERGED_PC] \u001b[38;5;28;01mif\u001b[39;00m channels \u001b[38;5;129;01mis\u001b[39;00m \u001b[38;5;28;01mNone\u001b[39;00m \u001b[38;5;28;01melse\u001b[39;00m channels\n\u001b[1;32m    297\u001b[0m lidar_pc \u001b[38;5;241m=\u001b[39m \u001b[38;5;28mnext\u001b[39m(\n\u001b[1;32m    298\u001b[0m     get_sensor_data_from_sensor_data_tokens_from_db(\n\u001b[1;32m    299\u001b[0m         \u001b[38;5;28mself\u001b[39m\u001b[38;5;241m.\u001b[39m_log_file, get_lidarpc_sensor_data(), LidarPc, [\u001b[38;5;28mself\u001b[39m\u001b[38;5;241m.\u001b[39m_lidarpc_tokens[iteration]]\n\u001b[1;32m    300\u001b[0m     )\n\u001b[1;32m    301\u001b[0m )\n\u001b[0;32m--> 302\u001b[0m \u001b[38;5;28;01mreturn\u001b[39;00m \u001b[38;5;28;43mself\u001b[39;49m\u001b[38;5;241;43m.\u001b[39;49m\u001b[43m_get_sensor_data_from_lidar_pc\u001b[49m\u001b[43m(\u001b[49m\u001b[43mcast\u001b[49m\u001b[43m(\u001b[49m\u001b[43mLidarPc\u001b[49m\u001b[43m,\u001b[49m\u001b[43m \u001b[49m\u001b[43mlidar_pc\u001b[49m\u001b[43m)\u001b[49m\u001b[43m,\u001b[49m\u001b[43m \u001b[49m\u001b[43mchannels\u001b[49m\u001b[43m)\u001b[49m\n",
      "File \u001b[0;32m~/nuplan-devkit/nuplan/planning/scenario_builder/nuplan_db/nuplan_scenario.py:505\u001b[0m, in \u001b[0;36mNuPlanScenario._get_sensor_data_from_lidar_pc\u001b[0;34m(self, lidar_pc, channels)\u001b[0m\n\u001b[1;32m    496\u001b[0m retrieved_images \u001b[38;5;241m=\u001b[39m get_images_from_lidar_tokens(\n\u001b[1;32m    497\u001b[0m     \u001b[38;5;28mself\u001b[39m\u001b[38;5;241m.\u001b[39m_log_file, [lidar_pc\u001b[38;5;241m.\u001b[39mtoken], [cast(\u001b[38;5;28mstr\u001b[39m, channel\u001b[38;5;241m.\u001b[39mvalue) \u001b[38;5;28;01mfor\u001b[39;00m channel \u001b[38;5;129;01min\u001b[39;00m channels]\n\u001b[1;32m    498\u001b[0m )\n\u001b[1;32m    499\u001b[0m lidar_pcs \u001b[38;5;241m=\u001b[39m (\n\u001b[1;32m    500\u001b[0m     {LidarChannel\u001b[38;5;241m.\u001b[39mMERGED_PC: load_point_cloud(cast(LidarPc, lidar_pc), local_store, remote_store)}\n\u001b[1;32m    501\u001b[0m     \u001b[38;5;28;01mif\u001b[39;00m LidarChannel\u001b[38;5;241m.\u001b[39mMERGED_PC \u001b[38;5;129;01min\u001b[39;00m channels\n\u001b[1;32m    502\u001b[0m     \u001b[38;5;28;01melse\u001b[39;00m \u001b[38;5;28;01mNone\u001b[39;00m\n\u001b[1;32m    503\u001b[0m )\n\u001b[0;32m--> 505\u001b[0m images \u001b[38;5;241m=\u001b[39m {\n\u001b[1;32m    506\u001b[0m     CameraChannel[image\u001b[38;5;241m.\u001b[39mchannel]: load_image(image, local_store, remote_store) \u001b[38;5;28;01mfor\u001b[39;00m image \u001b[38;5;129;01min\u001b[39;00m retrieved_images\n\u001b[1;32m    507\u001b[0m }\n\u001b[1;32m    509\u001b[0m \u001b[38;5;28;01mreturn\u001b[39;00m Sensors(pointcloud\u001b[38;5;241m=\u001b[39mlidar_pcs, images\u001b[38;5;241m=\u001b[39mimages \u001b[38;5;28;01mif\u001b[39;00m images \u001b[38;5;28;01melse\u001b[39;00m \u001b[38;5;28;01mNone\u001b[39;00m)\n",
      "File \u001b[0;32m~/nuplan-devkit/nuplan/planning/scenario_builder/nuplan_db/nuplan_scenario.py:506\u001b[0m, in \u001b[0;36m<dictcomp>\u001b[0;34m(.0)\u001b[0m\n\u001b[1;32m    496\u001b[0m retrieved_images \u001b[38;5;241m=\u001b[39m get_images_from_lidar_tokens(\n\u001b[1;32m    497\u001b[0m     \u001b[38;5;28mself\u001b[39m\u001b[38;5;241m.\u001b[39m_log_file, [lidar_pc\u001b[38;5;241m.\u001b[39mtoken], [cast(\u001b[38;5;28mstr\u001b[39m, channel\u001b[38;5;241m.\u001b[39mvalue) \u001b[38;5;28;01mfor\u001b[39;00m channel \u001b[38;5;129;01min\u001b[39;00m channels]\n\u001b[1;32m    498\u001b[0m )\n\u001b[1;32m    499\u001b[0m lidar_pcs \u001b[38;5;241m=\u001b[39m (\n\u001b[1;32m    500\u001b[0m     {LidarChannel\u001b[38;5;241m.\u001b[39mMERGED_PC: load_point_cloud(cast(LidarPc, lidar_pc), local_store, remote_store)}\n\u001b[1;32m    501\u001b[0m     \u001b[38;5;28;01mif\u001b[39;00m LidarChannel\u001b[38;5;241m.\u001b[39mMERGED_PC \u001b[38;5;129;01min\u001b[39;00m channels\n\u001b[1;32m    502\u001b[0m     \u001b[38;5;28;01melse\u001b[39;00m \u001b[38;5;28;01mNone\u001b[39;00m\n\u001b[1;32m    503\u001b[0m )\n\u001b[1;32m    505\u001b[0m images \u001b[38;5;241m=\u001b[39m {\n\u001b[0;32m--> 506\u001b[0m     CameraChannel[image\u001b[38;5;241m.\u001b[39mchannel]: \u001b[43mload_image\u001b[49m\u001b[43m(\u001b[49m\u001b[43mimage\u001b[49m\u001b[43m,\u001b[49m\u001b[43m \u001b[49m\u001b[43mlocal_store\u001b[49m\u001b[43m,\u001b[49m\u001b[43m \u001b[49m\u001b[43mremote_store\u001b[49m\u001b[43m)\u001b[49m \u001b[38;5;28;01mfor\u001b[39;00m image \u001b[38;5;129;01min\u001b[39;00m retrieved_images\n\u001b[1;32m    507\u001b[0m }\n\u001b[1;32m    509\u001b[0m \u001b[38;5;28;01mreturn\u001b[39;00m Sensors(pointcloud\u001b[38;5;241m=\u001b[39mlidar_pcs, images\u001b[38;5;241m=\u001b[39mimages \u001b[38;5;28;01mif\u001b[39;00m images \u001b[38;5;28;01melse\u001b[39;00m \u001b[38;5;28;01mNone\u001b[39;00m)\n",
      "File \u001b[0;32m~/nuplan-devkit/nuplan/planning/scenario_builder/nuplan_db/nuplan_scenario_utils.py:483\u001b[0m, in \u001b[0;36mload_image\u001b[0;34m(image, local_store, remote_store)\u001b[0m\n\u001b[1;32m    475\u001b[0m \u001b[38;5;28;01mdef\u001b[39;00m \u001b[38;5;21mload_image\u001b[39m(image: ImageDBRow\u001b[38;5;241m.\u001b[39mImage, local_store: LocalStore, remote_store: S3Store) \u001b[38;5;241m-\u001b[39m\u001b[38;5;241m>\u001b[39m Optional[Image]:\n\u001b[1;32m    476\u001b[0m \u001b[38;5;250m    \u001b[39m\u001b[38;5;124;03m\"\"\"\u001b[39;00m\n\u001b[1;32m    477\u001b[0m \u001b[38;5;124;03m    Loads an image given a database Image object.\u001b[39;00m\n\u001b[1;32m    478\u001b[0m \u001b[38;5;124;03m    :param image: The image for which to grab the image.\u001b[39;00m\n\u001b[0;32m   (...)\u001b[0m\n\u001b[1;32m    481\u001b[0m \u001b[38;5;124;03m    :return: The corresponding image.\u001b[39;00m\n\u001b[1;32m    482\u001b[0m \u001b[38;5;124;03m    \"\"\"\u001b[39;00m\n\u001b[0;32m--> 483\u001b[0m     blob \u001b[38;5;241m=\u001b[39m \u001b[43mdownload_and_cache\u001b[49m\u001b[43m(\u001b[49m\u001b[43mimage\u001b[49m\u001b[38;5;241;43m.\u001b[39;49m\u001b[43mfilename_jpg\u001b[49m\u001b[43m,\u001b[49m\u001b[43m \u001b[49m\u001b[43mlocal_store\u001b[49m\u001b[43m,\u001b[49m\u001b[43m \u001b[49m\u001b[43mremote_store\u001b[49m\u001b[43m)\u001b[49m\n\u001b[1;32m    484\u001b[0m     \u001b[38;5;28;01mreturn\u001b[39;00m Image\u001b[38;5;241m.\u001b[39mfrom_buffer(blob) \u001b[38;5;28;01mif\u001b[39;00m blob \u001b[38;5;129;01mis\u001b[39;00m \u001b[38;5;129;01mnot\u001b[39;00m \u001b[38;5;28;01mNone\u001b[39;00m \u001b[38;5;28;01melse\u001b[39;00m \u001b[38;5;28;01mNone\u001b[39;00m\n",
      "File \u001b[0;32m~/nuplan-devkit/nuplan/planning/scenario_builder/nuplan_db/nuplan_scenario_utils.py:448\u001b[0m, in \u001b[0;36mdownload_and_cache\u001b[0;34m(key, local_store, remote_store)\u001b[0m\n\u001b[1;32m    445\u001b[0m     \u001b[38;5;28;01mreturn\u001b[39;00m cast(BinaryIO, local_store\u001b[38;5;241m.\u001b[39mget(key))\n\u001b[1;32m    447\u001b[0m \u001b[38;5;28;01mif\u001b[39;00m remote_store \u001b[38;5;129;01mis\u001b[39;00m \u001b[38;5;28;01mNone\u001b[39;00m:\n\u001b[0;32m--> 448\u001b[0m     \u001b[38;5;28;01mraise\u001b[39;00m \u001b[38;5;167;01mRuntimeError\u001b[39;00m(\n\u001b[1;32m    449\u001b[0m         \u001b[38;5;124m\"\u001b[39m\u001b[38;5;124mRemote store is not set and key was not found locally. Try setting NUPLAN_DATA_STORE to \u001b[39m\u001b[38;5;124m'\u001b[39m\u001b[38;5;124ms3\u001b[39m\u001b[38;5;124m'\u001b[39m\u001b[38;5;124m.\u001b[39m\u001b[38;5;124m\"\u001b[39m\n\u001b[1;32m    450\u001b[0m     )\n\u001b[1;32m    452\u001b[0m \u001b[38;5;66;03m# Download and store data locally\u001b[39;00m\n\u001b[1;32m    453\u001b[0m \u001b[38;5;28;01mtry\u001b[39;00m:\n",
      "\u001b[0;31mRuntimeError\u001b[0m: Remote store is not set and key was not found locally. Try setting NUPLAN_DATA_STORE to 's3'."
     ]
    }
   ],
   "source": [
    "# All camera channels\n",
    "sensors = scenario.get_sensors_at_iteration(0, [channel for channel in CameraChannel])\n",
    "\n",
    "\n",
    "# Visualizing all 8 channels\n",
    "fig, axarr = plt.subplots(4, 2, figsize=(10, 15))\n",
    "channel_idx = 0\n",
    "for channel, img in sensors.images.items():\n",
    "    row, col = channel_idx % 4, channel_idx // 4\n",
    "    axarr[row][col].imshow(img.as_numpy)\n",
    "    axarr[row][col].title.set_text(channel.name)\n",
    "    channel_idx += 1"
   ]
  }
 ],
 "metadata": {
  "kernelspec": {
   "display_name": "nuplan",
   "language": "python",
   "name": "python3"
  },
  "language_info": {
   "codemirror_mode": {
    "name": "ipython",
    "version": 3
   },
   "file_extension": ".py",
   "mimetype": "text/x-python",
   "name": "python",
   "nbconvert_exporter": "python",
   "pygments_lexer": "ipython3",
   "version": "3.9.19"
  }
 },
 "nbformat": 4,
 "nbformat_minor": 5
}
